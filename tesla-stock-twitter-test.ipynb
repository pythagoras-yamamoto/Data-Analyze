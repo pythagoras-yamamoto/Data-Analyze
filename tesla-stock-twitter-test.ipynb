{
 "cells": [
  {
   "cell_type": "code",
   "execution_count": null,
   "metadata": {},
   "outputs": [],
   "source": [
    "import pandas as pd\n",
    "import matplotlib.pyplot as plt\n",
    "import numpy as np\n",
    "import seaborn as sns\n",
    "from scipy import stats as stat"
   ]
  },
  {
   "cell_type": "code",
   "execution_count": null,
   "metadata": {},
   "outputs": [],
   "source": [
    "cpy = pd.read_csv('./input/Company.csv')\n",
    "cpy_tweet = pd.read_csv('./input/Company_Tweet.csv')\n",
    "tweet = pd.read_csv('./input/Tweet.csv')"
   ]
  },
  {
   "cell_type": "code",
   "execution_count": null,
   "metadata": {},
   "outputs": [],
   "source": [
    "cpy"
   ]
  },
  {
   "cell_type": "code",
   "execution_count": null,
   "metadata": {},
   "outputs": [],
   "source": [
    "cpy_tweet"
   ]
  },
  {
   "cell_type": "code",
   "execution_count": null,
   "metadata": {},
   "outputs": [],
   "source": [
    "tweet"
   ]
  },
  {
   "cell_type": "code",
   "execution_count": null,
   "metadata": {},
   "outputs": [],
   "source": [
    "tweets = pd.merge(tweet,cpy_tweet,on='tweet_id',how='inner')\n",
    "tweets.head()"
   ]
  },
  {
   "cell_type": "code",
   "execution_count": null,
   "metadata": {},
   "outputs": [],
   "source": [
    "tweets['post_date'] = pd.to_datetime(tweets['post_date'], unit='s')"
   ]
  },
  {
   "cell_type": "code",
   "execution_count": null,
   "metadata": {},
   "outputs": [],
   "source": [
    "tweets['date'] = pd.to_datetime(tweets['post_date'].apply(lambda date: date.date()))"
   ]
  },
  {
   "cell_type": "code",
   "execution_count": null,
   "metadata": {},
   "outputs": [],
   "source": [
    "tweets['date'].head()"
   ]
  },
  {
   "cell_type": "code",
   "execution_count": null,
   "metadata": {},
   "outputs": [],
   "source": [
    "tweets.info()"
   ]
  },
  {
   "cell_type": "code",
   "execution_count": null,
   "metadata": {},
   "outputs": [],
   "source": [
    "tweets = tweets.drop(['tweet_id'],axis=1)"
   ]
  },
  {
   "cell_type": "code",
   "execution_count": null,
   "metadata": {},
   "outputs": [],
   "source": [
    "tweets.isna().sum()"
   ]
  },
  {
   "cell_type": "code",
   "execution_count": null,
   "metadata": {},
   "outputs": [],
   "source": [
    "tweets.ticker_symbol.value_counts()"
   ]
  },
  {
   "cell_type": "code",
   "execution_count": null,
   "metadata": {},
   "outputs": [],
   "source": [
    "aapl = tweets[tweets['ticker_symbol'] == 'AAPL']\n",
    "tsla = tweets[tweets['ticker_symbol'] == 'TSLA']\n",
    "amzn = tweets[tweets['ticker_symbol'] == 'AMZN']\n",
    "msft = tweets[tweets['ticker_symbol'] == 'MSFT']\n",
    "goog = tweets[tweets['ticker_symbol'] == 'GOOG']\n",
    "googl = tweets[tweets['ticker_symbol'] == 'GOOGL'] ## With stockholders voting rights"
   ]
  },
  {
   "cell_type": "code",
   "execution_count": null,
   "metadata": {},
   "outputs": [],
   "source": [
    "import yfinance as yf"
   ]
  },
  {
   "cell_type": "code",
   "execution_count": null,
   "metadata": {},
   "outputs": [],
   "source": [
    "tsla_stock = yf.Ticker('TSLA')"
   ]
  },
  {
   "cell_type": "code",
   "execution_count": null,
   "metadata": {},
   "outputs": [],
   "source": [
    "start = min(tsla['date'])\n",
    "end = max(tsla['date'])\n",
    "\n",
    "tsla_stock = tsla_stock.history(start=start.date(), end=end.date())"
   ]
  },
  {
   "cell_type": "code",
   "execution_count": null,
   "metadata": {},
   "outputs": [],
   "source": [
    "!pip install afinn"
   ]
  },
  {
   "cell_type": "code",
   "execution_count": null,
   "metadata": {},
   "outputs": [],
   "source": [
    "score= []\n",
    "for date, group in tsla.groupby(\"date\"):\n",
    "    aa = group['body'].apply(lambda tweet: afinn.score(tweet)).mean()\n",
    "    score.append([date,aa])\n",
    "print(len(score))"
   ]
  },
  {
   "cell_type": "code",
   "execution_count": null,
   "metadata": {},
   "outputs": [],
   "source": [
    "tweets_vol = tsla.groupby('date').size()\n",
    "print(tweets_vol)"
   ]
  },
  {
   "cell_type": "code",
   "execution_count": null,
   "metadata": {},
   "outputs": [],
   "source": [
    "st = pd.DataFrame(tsla_stock)\n",
    "vol = pd.DataFrame(tweets_vol)\n",
    "sc = pd.DataFrame(score)"
   ]
  },
  {
   "cell_type": "code",
   "execution_count": null,
   "metadata": {},
   "outputs": [],
   "source": [
    "res = pd.DataFrame(columns=('date', 'close', 'tweet_vol', 'ts_polarity'))\n",
    "for row in st.iterrows():\n",
    "    date = row[0]\n",
    "    close = row[1]['Close']\n",
    "    tweet_vol = 'NaN'\n",
    "    ts_polarity = 'NaN'\n",
    "    for i in vol.iterrows():\n",
    "        if i[0]==date:\n",
    "            tweet_vol = i[1][0]\n",
    "    for j in sc.iterrows():\n",
    "        if j[1][0] == date:\n",
    "            ts_polarity = j[1][1]      \n",
    "    res = res.append([{'date':date, 'close':close, 'tweet_vol':tweet_vol, 'ts_polarity':ts_polarity}])"
   ]
  },
  {
   "cell_type": "code",
   "execution_count": null,
   "metadata": {},
   "outputs": [],
   "source": [
    "print(res.head())"
   ]
  },
  {
   "cell_type": "code",
   "execution_count": null,
   "metadata": {},
   "outputs": [],
   "source": [
    "res.to_csv('./tesla.csv')"
   ]
  }
 ],
 "metadata": {
  "kernelspec": {
   "display_name": "Python 3 (ipykernel)",
   "language": "python",
   "name": "python3"
  },
  "language_info": {
   "codemirror_mode": {
    "name": "ipython",
    "version": 3
   },
   "file_extension": ".py",
   "mimetype": "text/x-python",
   "name": "python",
   "nbconvert_exporter": "python",
   "pygments_lexer": "ipython3",
   "version": "3.7.11"
  }
 },
 "nbformat": 4,
 "nbformat_minor": 4
}
